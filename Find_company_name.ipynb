{
 "cells": [
  {
   "cell_type": "code",
   "execution_count": 2,
   "metadata": {},
   "outputs": [],
   "source": [
    "import pandas as pd\n",
    "import os\n"
   ]
  },
  {
   "cell_type": "code",
   "execution_count": 3,
   "metadata": {},
   "outputs": [],
   "source": [
    "df = pd.read_csv('Connections.csv')"
   ]
  },
  {
   "cell_type": "code",
   "execution_count": 12,
   "metadata": {},
   "outputs": [
    {
     "data": {
      "text/html": [
       "<div>\n",
       "<style scoped>\n",
       "    .dataframe tbody tr th:only-of-type {\n",
       "        vertical-align: middle;\n",
       "    }\n",
       "\n",
       "    .dataframe tbody tr th {\n",
       "        vertical-align: top;\n",
       "    }\n",
       "\n",
       "    .dataframe thead th {\n",
       "        text-align: right;\n",
       "    }\n",
       "</style>\n",
       "<table border=\"1\" class=\"dataframe\">\n",
       "  <thead>\n",
       "    <tr style=\"text-align: right;\">\n",
       "      <th></th>\n",
       "      <th>First Name</th>\n",
       "      <th>Last Name</th>\n",
       "      <th>Email Address</th>\n",
       "      <th>Company</th>\n",
       "      <th>Position</th>\n",
       "      <th>Connected On</th>\n",
       "    </tr>\n",
       "  </thead>\n",
       "  <tbody>\n",
       "    <tr>\n",
       "      <th>count</th>\n",
       "      <td>8588</td>\n",
       "      <td>8588</td>\n",
       "      <td>11</td>\n",
       "      <td>8130</td>\n",
       "      <td>8133</td>\n",
       "      <td>8642</td>\n",
       "    </tr>\n",
       "    <tr>\n",
       "      <th>unique</th>\n",
       "      <td>4986</td>\n",
       "      <td>5136</td>\n",
       "      <td>11</td>\n",
       "      <td>5175</td>\n",
       "      <td>4173</td>\n",
       "      <td>1188</td>\n",
       "    </tr>\n",
       "    <tr>\n",
       "      <th>top</th>\n",
       "      <td>Abhishek</td>\n",
       "      <td>Kumar</td>\n",
       "      <td>nitin@apisprotect.com</td>\n",
       "      <td>Tata Consultancy Services</td>\n",
       "      <td>Data Scientist</td>\n",
       "      <td>03-Apr-18</td>\n",
       "    </tr>\n",
       "    <tr>\n",
       "      <th>freq</th>\n",
       "      <td>63</td>\n",
       "      <td>234</td>\n",
       "      <td>1</td>\n",
       "      <td>93</td>\n",
       "      <td>501</td>\n",
       "      <td>517</td>\n",
       "    </tr>\n",
       "  </tbody>\n",
       "</table>\n",
       "</div>"
      ],
      "text/plain": [
       "       First Name Last Name          Email Address                    Company  \\\n",
       "count        8588      8588                     11                       8130   \n",
       "unique       4986      5136                     11                       5175   \n",
       "top      Abhishek     Kumar  nitin@apisprotect.com  Tata Consultancy Services   \n",
       "freq           63       234                      1                         93   \n",
       "\n",
       "              Position Connected On  \n",
       "count             8133         8642  \n",
       "unique            4173         1188  \n",
       "top     Data Scientist    03-Apr-18  \n",
       "freq               501          517  "
      ]
     },
     "execution_count": 12,
     "metadata": {},
     "output_type": "execute_result"
    }
   ],
   "source": [
    "df.describe()"
   ]
  },
  {
   "cell_type": "code",
   "execution_count": 4,
   "metadata": {},
   "outputs": [
    {
     "data": {
      "text/html": [
       "<div>\n",
       "<style scoped>\n",
       "    .dataframe tbody tr th:only-of-type {\n",
       "        vertical-align: middle;\n",
       "    }\n",
       "\n",
       "    .dataframe tbody tr th {\n",
       "        vertical-align: top;\n",
       "    }\n",
       "\n",
       "    .dataframe thead th {\n",
       "        text-align: right;\n",
       "    }\n",
       "</style>\n",
       "<table border=\"1\" class=\"dataframe\">\n",
       "  <thead>\n",
       "    <tr style=\"text-align: right;\">\n",
       "      <th></th>\n",
       "      <th>First Name</th>\n",
       "      <th>Last Name</th>\n",
       "      <th>Email Address</th>\n",
       "      <th>Company</th>\n",
       "      <th>Position</th>\n",
       "      <th>Connected On</th>\n",
       "    </tr>\n",
       "  </thead>\n",
       "  <tbody>\n",
       "    <tr>\n",
       "      <th>0</th>\n",
       "      <td>Ison</td>\n",
       "      <td>Varghese</td>\n",
       "      <td>NaN</td>\n",
       "      <td>NaN</td>\n",
       "      <td>NaN</td>\n",
       "      <td>08-Dec-18</td>\n",
       "    </tr>\n",
       "    <tr>\n",
       "      <th>1</th>\n",
       "      <td>Imaad</td>\n",
       "      <td>Mohamed Khan</td>\n",
       "      <td>NaN</td>\n",
       "      <td>Indegene</td>\n",
       "      <td>Data Scientist</td>\n",
       "      <td>08-Dec-18</td>\n",
       "    </tr>\n",
       "    <tr>\n",
       "      <th>2</th>\n",
       "      <td>Sagar</td>\n",
       "      <td>Devkate</td>\n",
       "      <td>NaN</td>\n",
       "      <td>NaN</td>\n",
       "      <td>NaN</td>\n",
       "      <td>08-Dec-18</td>\n",
       "    </tr>\n",
       "    <tr>\n",
       "      <th>3</th>\n",
       "      <td>Advaith</td>\n",
       "      <td>Rao</td>\n",
       "      <td>NaN</td>\n",
       "      <td>Intelligent creations pvt ltd</td>\n",
       "      <td>Deep learning scientist</td>\n",
       "      <td>08-Dec-18</td>\n",
       "    </tr>\n",
       "    <tr>\n",
       "      <th>4</th>\n",
       "      <td>Navya</td>\n",
       "      <td>Sri</td>\n",
       "      <td>NaN</td>\n",
       "      <td>Krish Software Solutions</td>\n",
       "      <td>Sr.Technical Recruiter</td>\n",
       "      <td>08-Dec-18</td>\n",
       "    </tr>\n",
       "  </tbody>\n",
       "</table>\n",
       "</div>"
      ],
      "text/plain": [
       "  First Name     Last Name Email Address                        Company  \\\n",
       "0       Ison      Varghese           NaN                            NaN   \n",
       "1     Imaad   Mohamed Khan           NaN                       Indegene   \n",
       "2      Sagar       Devkate           NaN                            NaN   \n",
       "3    Advaith           Rao           NaN  Intelligent creations pvt ltd   \n",
       "4      Navya           Sri           NaN       Krish Software Solutions   \n",
       "\n",
       "                  Position Connected On  \n",
       "0                      NaN    08-Dec-18  \n",
       "1           Data Scientist    08-Dec-18  \n",
       "2                      NaN    08-Dec-18  \n",
       "3  Deep learning scientist    08-Dec-18  \n",
       "4   Sr.Technical Recruiter    08-Dec-18  "
      ]
     },
     "execution_count": 4,
     "metadata": {},
     "output_type": "execute_result"
    }
   ],
   "source": [
    "df.head(5)"
   ]
  },
  {
   "cell_type": "code",
   "execution_count": 7,
   "metadata": {},
   "outputs": [],
   "source": [
    "Company = df.loc[df['Position'] == 'Data Scientist']"
   ]
  },
  {
   "cell_type": "code",
   "execution_count": 13,
   "metadata": {
    "scrolled": true
   },
   "outputs": [
    {
     "data": {
      "text/plain": [
       "1                                                Indegene\n",
       "31                            Reliance Industries Limited\n",
       "35                                              HDFC Bank\n",
       "36                                                Infosys\n",
       "52                              Tata Consultancy Services\n",
       "64                                  CincoGen Technologies\n",
       "99                        L&T Technology Services Limited\n",
       "112                                            UpGrad.com\n",
       "129                          RoboManiax Edutech Pvt. Ltd.\n",
       "145                                           TMW Systems\n",
       "180                                  Sears Holdings India\n",
       "188                            Burning Glass Technologies\n",
       "206                                   Nexamatic solutions\n",
       "207                                              Qualcomm\n",
       "253                                                 Cigna\n",
       "304                                              Dell EMC\n",
       "324      Mtag Innovations | Integrity Management Platform\n",
       "420                                         Self-employed\n",
       "449                                         PST Analytics\n",
       "484                                             Accenture\n",
       "509                                              Param.ai\n",
       "599                                               Genpact\n",
       "603                                           Facilio Inc\n",
       "619                                              Deloitte\n",
       "627                                        nbn™ Australia\n",
       "644                                    UnitedHealth Group\n",
       "686     Citizenship and Immigration Canada / Citoyenne...\n",
       "739                                                Swiggy\n",
       "765                                          Pitney Bowes\n",
       "839                                        Algorithm king\n",
       "                              ...                        \n",
       "7231                                            Innominds\n",
       "7232                                        Self-Employed\n",
       "7236                                    Fractal Analytics\n",
       "7238                                Vodafone Idea Limited\n",
       "7240                             Eastman Chemical Company\n",
       "7247                                      Cyient Insights\n",
       "7248                                               swiggy\n",
       "7252                                               H2O.ai\n",
       "7253                                           GE Digital\n",
       "7260                                     Monsanto Company\n",
       "7262                        [24]7 Innnovation Labs- ILabs\n",
       "7264                                              Agility\n",
       "7265                                       Shopsense Fynd\n",
       "7273                                                Nisum\n",
       "7275                                              saal.ai\n",
       "7279                        Sageable Technologies Pvt Ltd\n",
       "7281                                          AsiaCollect\n",
       "7283                                      Cyient Insights\n",
       "7284                                            Innominds\n",
       "7312                                              News UK\n",
       "7313                    Everlytics Data Science India LLP\n",
       "7342                      Media iQ Digital India Pvt. Ltd\n",
       "7364                                             VigiLanz\n",
       "7507                                                   C3\n",
       "7585                                           IBM Watson\n",
       "7796                                              Xoriant\n",
       "8142                                          Ulytics Inc\n",
       "8429                                            Microsoft\n",
       "8559                                                  Jio\n",
       "8564                            American Family Insurance\n",
       "Name: Company, Length: 501, dtype: object"
      ]
     },
     "execution_count": 13,
     "metadata": {},
     "output_type": "execute_result"
    }
   ],
   "source": [
    "Company['Company']"
   ]
  },
  {
   "cell_type": "code",
   "execution_count": 14,
   "metadata": {},
   "outputs": [],
   "source": [
    "Company.to_csv('out.csv')"
   ]
  },
  {
   "cell_type": "code",
   "execution_count": 15,
   "metadata": {},
   "outputs": [],
   "source": [
    "Company1 = df.loc[df['Position'] == 'Deep learning scientist']"
   ]
  },
  {
   "cell_type": "code",
   "execution_count": 16,
   "metadata": {},
   "outputs": [
    {
     "data": {
      "text/html": [
       "<div>\n",
       "<style scoped>\n",
       "    .dataframe tbody tr th:only-of-type {\n",
       "        vertical-align: middle;\n",
       "    }\n",
       "\n",
       "    .dataframe tbody tr th {\n",
       "        vertical-align: top;\n",
       "    }\n",
       "\n",
       "    .dataframe thead th {\n",
       "        text-align: right;\n",
       "    }\n",
       "</style>\n",
       "<table border=\"1\" class=\"dataframe\">\n",
       "  <thead>\n",
       "    <tr style=\"text-align: right;\">\n",
       "      <th></th>\n",
       "      <th>First Name</th>\n",
       "      <th>Last Name</th>\n",
       "      <th>Email Address</th>\n",
       "      <th>Company</th>\n",
       "      <th>Position</th>\n",
       "      <th>Connected On</th>\n",
       "    </tr>\n",
       "  </thead>\n",
       "  <tbody>\n",
       "    <tr>\n",
       "      <th>3</th>\n",
       "      <td>Advaith</td>\n",
       "      <td>Rao</td>\n",
       "      <td>NaN</td>\n",
       "      <td>Intelligent creations pvt ltd</td>\n",
       "      <td>Deep learning scientist</td>\n",
       "      <td>08-Dec-18</td>\n",
       "    </tr>\n",
       "  </tbody>\n",
       "</table>\n",
       "</div>"
      ],
      "text/plain": [
       "  First Name Last Name Email Address                        Company  \\\n",
       "3    Advaith       Rao           NaN  Intelligent creations pvt ltd   \n",
       "\n",
       "                  Position Connected On  \n",
       "3  Deep learning scientist    08-Dec-18  "
      ]
     },
     "execution_count": 16,
     "metadata": {},
     "output_type": "execute_result"
    }
   ],
   "source": [
    "Company1"
   ]
  },
  {
   "cell_type": "code",
   "execution_count": 17,
   "metadata": {
    "scrolled": true
   },
   "outputs": [
    {
     "data": {
      "text/plain": [
       "0                                                     NaN\n",
       "1                                          Data Scientist\n",
       "2                                                     NaN\n",
       "3                                 Deep learning scientist\n",
       "4                                  Sr.Technical Recruiter\n",
       "5                                      Software Developer\n",
       "6                               Microsoft Student Partner\n",
       "7                                      Faculty in Biology\n",
       "8       Data Analyst - Analytics & Marketing Intelligence\n",
       "9                           Application Software Engineer\n",
       "10                                     Research Associate\n",
       "11                          Head Of Business & Operations\n",
       "12                                     Software Developer\n",
       "13                                                  Chair\n",
       "14                               MSBI and MSSQL Developer\n",
       "15                                Machine learning Intern\n",
       "16                 Assistant Professor (Civil Engineeing)\n",
       "17                                                    NaN\n",
       "18                         Information Management Officer\n",
       "19                             Technical Service Engineer\n",
       "20                                        Staff Scientist\n",
       "21                                             Instructor\n",
       "22                   SQL Server/SSIS (ETL)/SSRS Developer\n",
       "23                      Application Development Associate\n",
       "24                                      Intern as Analyst\n",
       "25                                 Freelance Web Designer\n",
       "26                                                    NaN\n",
       "27                               Data Scientist (Level-1)\n",
       "28                                                 Intern\n",
       "29                    Assistant Manager - Career Services\n",
       "                              ...                        \n",
       "8612                   Software Development Engineer - II\n",
       "8613                          Graduate Research Assistant\n",
       "8614                                               intern\n",
       "8615                              Staff Software Engineer\n",
       "8616                   Executive Administrative Assistant\n",
       "8617                               Senior Product Manager\n",
       "8618                                                  NaN\n",
       "8619                         Member of Technical Staff II\n",
       "8620                             system server operations\n",
       "8621                     Software Development Engineer II\n",
       "8622                                    Associate Manager\n",
       "8623                            Category Planning Manager\n",
       "8624                                                  NaN\n",
       "8625                                Technology Specialist\n",
       "8626                                   Smart Data Manager\n",
       "8627                                    Software Engineer\n",
       "8628                                           HR Manager\n",
       "8629        Lead Trainer and Consultant (Founder SKTekki)\n",
       "8630                                Management Consultant\n",
       "8631                                 Academic Coordinator\n",
       "8632                                   Software Developer\n",
       "8633                             Senior Software Engineer\n",
       "8634                          Graduate Teaching Assistant\n",
       "8635                                           Specialist\n",
       "8636                                    Software Engineer\n",
       "8637                                        Founder & CEO\n",
       "8638                                            Professor\n",
       "8639                                                  NaN\n",
       "8640                                 Senior Lead Engineer\n",
       "8641    Manager II | Product Manager | Digital Innovat...\n",
       "Name: Position, Length: 8642, dtype: object"
      ]
     },
     "execution_count": 17,
     "metadata": {},
     "output_type": "execute_result"
    }
   ],
   "source": [
    "df['Position']"
   ]
  },
  {
   "cell_type": "code",
   "execution_count": 18,
   "metadata": {},
   "outputs": [
    {
     "data": {
      "text/html": [
       "<div>\n",
       "<style scoped>\n",
       "    .dataframe tbody tr th:only-of-type {\n",
       "        vertical-align: middle;\n",
       "    }\n",
       "\n",
       "    .dataframe tbody tr th {\n",
       "        vertical-align: top;\n",
       "    }\n",
       "\n",
       "    .dataframe thead th {\n",
       "        text-align: right;\n",
       "    }\n",
       "</style>\n",
       "<table border=\"1\" class=\"dataframe\">\n",
       "  <thead>\n",
       "    <tr style=\"text-align: right;\">\n",
       "      <th></th>\n",
       "      <th>First Name</th>\n",
       "      <th>Last Name</th>\n",
       "      <th>Email Address</th>\n",
       "      <th>Company</th>\n",
       "      <th>Position</th>\n",
       "      <th>Connected On</th>\n",
       "    </tr>\n",
       "  </thead>\n",
       "  <tbody>\n",
       "    <tr>\n",
       "      <th>15</th>\n",
       "      <td>Ashish</td>\n",
       "      <td>Agrawal</td>\n",
       "      <td>NaN</td>\n",
       "      <td>UnFound</td>\n",
       "      <td>Machine learning Intern</td>\n",
       "      <td>07-Dec-18</td>\n",
       "    </tr>\n",
       "    <tr>\n",
       "      <th>1099</th>\n",
       "      <td>Rishab</td>\n",
       "      <td>Sharma (Kraken)</td>\n",
       "      <td>NaN</td>\n",
       "      <td>Shopsense Fynd</td>\n",
       "      <td>Machine learning Intern</td>\n",
       "      <td>29-May-18</td>\n",
       "    </tr>\n",
       "  </tbody>\n",
       "</table>\n",
       "</div>"
      ],
      "text/plain": [
       "     First Name        Last Name Email Address         Company  \\\n",
       "15       Ashish          Agrawal           NaN         UnFound   \n",
       "1099     Rishab  Sharma (Kraken)           NaN  Shopsense Fynd   \n",
       "\n",
       "                     Position Connected On  \n",
       "15    Machine learning Intern    07-Dec-18  \n",
       "1099  Machine learning Intern    29-May-18  "
      ]
     },
     "execution_count": 18,
     "metadata": {},
     "output_type": "execute_result"
    }
   ],
   "source": [
    "df.loc[df['Position'] == 'Machine learning Intern']"
   ]
  },
  {
   "cell_type": "code",
   "execution_count": 81,
   "metadata": {},
   "outputs": [],
   "source": [
    "company11 = df.loc[df['Position'] == 'Lead Analyst']\n",
    "company11.to_csv('out1.csv')"
   ]
  },
  {
   "cell_type": "code",
   "execution_count": 83,
   "metadata": {},
   "outputs": [],
   "source": [
    "company2 = df.loc[df['Position'] == 'Lead Data Scientist']\n",
    "company2.to_csv('out2.csv')"
   ]
  },
  {
   "cell_type": "code",
   "execution_count": 84,
   "metadata": {},
   "outputs": [],
   "source": [
    "company3 = df.loc[df['Position'] == 'Senior Data Analyst']\n",
    "company3.to_csv('out3.csv')"
   ]
  },
  {
   "cell_type": "code",
   "execution_count": 85,
   "metadata": {},
   "outputs": [],
   "source": [
    "company4 = df.loc[df['Position'] == 'Technical Analyst']  \n",
    "company4.to_csv('out4.csv')"
   ]
  },
  {
   "cell_type": "code",
   "execution_count": 86,
   "metadata": {},
   "outputs": [],
   "source": [
    "company5 = df.loc[df['Position'] == 'Junior Data Analyst']  \n",
    "company5.to_csv('out5.csv')"
   ]
  },
  {
   "cell_type": "code",
   "execution_count": 87,
   "metadata": {},
   "outputs": [],
   "source": [
    "company6 = df.loc[df['Position'] == 'Lead Data Scientist'] \n",
    "company6.to_csv('out6.csv')"
   ]
  },
  {
   "cell_type": "code",
   "execution_count": 88,
   "metadata": {},
   "outputs": [],
   "source": [
    "company7 = df.loc[df['Position'] == 'Machine Learning Engineer']  \n",
    "company7.to_csv('out7.csv')"
   ]
  },
  {
   "cell_type": "code",
   "execution_count": 89,
   "metadata": {},
   "outputs": [],
   "source": [
    "company8 = df.loc[df['Position'] == 'Business Intelligence Analyst'] \n",
    "company8.to_csv('out8.csv')"
   ]
  },
  {
   "cell_type": "code",
   "execution_count": 90,
   "metadata": {},
   "outputs": [],
   "source": [
    "company9 = df.loc[df['Position'] == 'Business Analyst']  \n",
    "company9.to_csv('out9.csv')"
   ]
  },
  {
   "cell_type": "code",
   "execution_count": 91,
   "metadata": {},
   "outputs": [],
   "source": [
    "company10 = df.loc[df['Position'] == 'Hadoop Administrator']  \n",
    "company10.to_csv('out10.csv')"
   ]
  },
  {
   "cell_type": "code",
   "execution_count": 92,
   "metadata": {},
   "outputs": [],
   "source": [
    "company11 = df.loc[df['Position'] == 'Researcher'] \n",
    "company11.to_csv('out11.csv')"
   ]
  },
  {
   "cell_type": "code",
   "execution_count": 93,
   "metadata": {},
   "outputs": [],
   "source": [
    "company12 = df.loc[df['Position'] == 'Tableau Developer']\n",
    "company12.to_csv('out12.csv')"
   ]
  },
  {
   "cell_type": "code",
   "execution_count": 94,
   "metadata": {},
   "outputs": [],
   "source": [
    "company13 = df.loc[df['Position'] == 'Talent Acquisition Lead']\n",
    "company13.to_csv('out13.csv')"
   ]
  },
  {
   "cell_type": "code",
   "execution_count": 95,
   "metadata": {},
   "outputs": [],
   "source": [
    "company14 = df.loc[df['Position'] == 'Junior Data Scientist']\n",
    "company14.to_csv('out14.csv')"
   ]
  },
  {
   "cell_type": "code",
   "execution_count": 96,
   "metadata": {},
   "outputs": [],
   "source": [
    "company15 = df.loc[df['Position'] == 'data science trainer']\n",
    "company15.to_csv('out15.csv')"
   ]
  },
  {
   "cell_type": "code",
   "execution_count": 97,
   "metadata": {},
   "outputs": [],
   "source": [
    "company16 = df.loc[df['Position'] == 'Big Data Engineer']\n",
    "company16.to_csv('out16.csv')"
   ]
  },
  {
   "cell_type": "code",
   "execution_count": 98,
   "metadata": {},
   "outputs": [],
   "source": [
    "company17 = df.loc[df['Position'] == 'Statistician']\n",
    "company17.to_csv('out17.csv')"
   ]
  },
  {
   "cell_type": "code",
   "execution_count": 99,
   "metadata": {},
   "outputs": [],
   "source": [
    "company18 = df.loc[df['Position'] == 'R&D Engineer']\n",
    "company18.to_csv('out18.csv')"
   ]
  },
  {
   "cell_type": "code",
   "execution_count": 100,
   "metadata": {},
   "outputs": [],
   "source": [
    "company19 = df.loc[df['Position'] == 'Lead Recruiter']\n",
    "company19.to_csv('out19.csv')"
   ]
  },
  {
   "cell_type": "code",
   "execution_count": 101,
   "metadata": {},
   "outputs": [],
   "source": [
    "company20 = df.loc[df['Position'] == 'Computer Scientist']\n",
    "company20.to_csv('out20.csv')"
   ]
  },
  {
   "cell_type": "code",
   "execution_count": 102,
   "metadata": {},
   "outputs": [],
   "source": [
    "company21 = df.loc[df['Position'] == 'Kaggle Expert']\n",
    "company21.to_csv('out21.csv')"
   ]
  },
  {
   "cell_type": "code",
   "execution_count": 104,
   "metadata": {},
   "outputs": [],
   "source": [
    "company = df.loc[df['Position'] == 'Data Engineer']\n",
    "company.to_csv('out22.csv')"
   ]
  },
  {
   "cell_type": "code",
   "execution_count": null,
   "metadata": {},
   "outputs": [],
   "source": []
  }
 ],
 "metadata": {
  "kernelspec": {
   "display_name": "Python 3",
   "language": "python",
   "name": "python3"
  },
  "language_info": {
   "codemirror_mode": {
    "name": "ipython",
    "version": 3
   },
   "file_extension": ".py",
   "mimetype": "text/x-python",
   "name": "python",
   "nbconvert_exporter": "python",
   "pygments_lexer": "ipython3",
   "version": "3.7.0"
  }
 },
 "nbformat": 4,
 "nbformat_minor": 2
}
