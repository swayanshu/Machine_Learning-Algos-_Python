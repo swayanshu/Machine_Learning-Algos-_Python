{
 "cells": [
  {
   "cell_type": "code",
   "execution_count": 1,
   "metadata": {},
   "outputs": [],
   "source": [
    "import pandas as pd                #for handling datasets\n",
    "import statsmodels.api as sm       #for statistical modeling\n",
    "import pylab as pl                 #for plotting\n",
    "import numpy as np                 #for numerical computation\n"
   ]
  },
  {
   "cell_type": "code",
   "execution_count": 2,
   "metadata": {},
   "outputs": [],
   "source": [
    "# read the data in\n",
    "dfTrain = pd.read_csv(\"train_gre.csv\")\n",
    "dfTest = pd.read_csv(\"test.csv\")"
   ]
  },
  {
   "cell_type": "code",
   "execution_count": 3,
   "metadata": {},
   "outputs": [
    {
     "data": {
      "text/html": [
       "<div>\n",
       "<style scoped>\n",
       "    .dataframe tbody tr th:only-of-type {\n",
       "        vertical-align: middle;\n",
       "    }\n",
       "\n",
       "    .dataframe tbody tr th {\n",
       "        vertical-align: top;\n",
       "    }\n",
       "\n",
       "    .dataframe thead th {\n",
       "        text-align: right;\n",
       "    }\n",
       "</style>\n",
       "<table border=\"1\" class=\"dataframe\">\n",
       "  <thead>\n",
       "    <tr style=\"text-align: right;\">\n",
       "      <th></th>\n",
       "      <th>admit</th>\n",
       "      <th>gre</th>\n",
       "      <th>gpa</th>\n",
       "      <th>prestige</th>\n",
       "    </tr>\n",
       "  </thead>\n",
       "  <tbody>\n",
       "    <tr>\n",
       "      <th>0</th>\n",
       "      <td>0</td>\n",
       "      <td>380</td>\n",
       "      <td>3.61</td>\n",
       "      <td>good</td>\n",
       "    </tr>\n",
       "    <tr>\n",
       "      <th>1</th>\n",
       "      <td>1</td>\n",
       "      <td>660</td>\n",
       "      <td>3.67</td>\n",
       "      <td>good</td>\n",
       "    </tr>\n",
       "    <tr>\n",
       "      <th>2</th>\n",
       "      <td>1</td>\n",
       "      <td>800</td>\n",
       "      <td>4.00</td>\n",
       "      <td>best</td>\n",
       "    </tr>\n",
       "    <tr>\n",
       "      <th>3</th>\n",
       "      <td>1</td>\n",
       "      <td>640</td>\n",
       "      <td>3.19</td>\n",
       "      <td>ok</td>\n",
       "    </tr>\n",
       "    <tr>\n",
       "      <th>4</th>\n",
       "      <td>0</td>\n",
       "      <td>520</td>\n",
       "      <td>2.93</td>\n",
       "      <td>ok</td>\n",
       "    </tr>\n",
       "  </tbody>\n",
       "</table>\n",
       "</div>"
      ],
      "text/plain": [
       "   admit  gre   gpa prestige\n",
       "0      0  380  3.61     good\n",
       "1      1  660  3.67     good\n",
       "2      1  800  4.00     best\n",
       "3      1  640  3.19       ok\n",
       "4      0  520  2.93       ok"
      ]
     },
     "execution_count": 3,
     "metadata": {},
     "output_type": "execute_result"
    }
   ],
   "source": [
    "# take a look at the dataset\n",
    "dfTrain.head()"
   ]
  },
  {
   "cell_type": "code",
   "execution_count": 4,
   "metadata": {},
   "outputs": [
    {
     "data": {
      "text/html": [
       "<div>\n",
       "<style scoped>\n",
       "    .dataframe tbody tr th:only-of-type {\n",
       "        vertical-align: middle;\n",
       "    }\n",
       "\n",
       "    .dataframe tbody tr th {\n",
       "        vertical-align: top;\n",
       "    }\n",
       "\n",
       "    .dataframe thead th {\n",
       "        text-align: right;\n",
       "    }\n",
       "</style>\n",
       "<table border=\"1\" class=\"dataframe\">\n",
       "  <thead>\n",
       "    <tr style=\"text-align: right;\">\n",
       "      <th></th>\n",
       "      <th>gre</th>\n",
       "      <th>gpa</th>\n",
       "      <th>prestige</th>\n",
       "    </tr>\n",
       "  </thead>\n",
       "  <tbody>\n",
       "    <tr>\n",
       "      <th>0</th>\n",
       "      <td>640</td>\n",
       "      <td>3.30</td>\n",
       "      <td>veryGood</td>\n",
       "    </tr>\n",
       "    <tr>\n",
       "      <th>1</th>\n",
       "      <td>660</td>\n",
       "      <td>3.60</td>\n",
       "      <td>good</td>\n",
       "    </tr>\n",
       "    <tr>\n",
       "      <th>2</th>\n",
       "      <td>400</td>\n",
       "      <td>3.15</td>\n",
       "      <td>veryGood</td>\n",
       "    </tr>\n",
       "    <tr>\n",
       "      <th>3</th>\n",
       "      <td>680</td>\n",
       "      <td>3.98</td>\n",
       "      <td>veryGood</td>\n",
       "    </tr>\n",
       "    <tr>\n",
       "      <th>4</th>\n",
       "      <td>220</td>\n",
       "      <td>2.83</td>\n",
       "      <td>good</td>\n",
       "    </tr>\n",
       "  </tbody>\n",
       "</table>\n",
       "</div>"
      ],
      "text/plain": [
       "   gre   gpa  prestige\n",
       "0  640  3.30  veryGood\n",
       "1  660  3.60      good\n",
       "2  400  3.15  veryGood\n",
       "3  680  3.98  veryGood\n",
       "4  220  2.83      good"
      ]
     },
     "execution_count": 4,
     "metadata": {},
     "output_type": "execute_result"
    }
   ],
   "source": [
    "dfTest.head()"
   ]
  },
  {
   "cell_type": "code",
   "execution_count": 5,
   "metadata": {},
   "outputs": [
    {
     "data": {
      "text/html": [
       "<div>\n",
       "<style scoped>\n",
       "    .dataframe tbody tr th:only-of-type {\n",
       "        vertical-align: middle;\n",
       "    }\n",
       "\n",
       "    .dataframe tbody tr th {\n",
       "        vertical-align: top;\n",
       "    }\n",
       "\n",
       "    .dataframe thead th {\n",
       "        text-align: right;\n",
       "    }\n",
       "</style>\n",
       "<table border=\"1\" class=\"dataframe\">\n",
       "  <thead>\n",
       "    <tr style=\"text-align: right;\">\n",
       "      <th></th>\n",
       "      <th>admit</th>\n",
       "      <th>gre</th>\n",
       "      <th>gpa</th>\n",
       "    </tr>\n",
       "  </thead>\n",
       "  <tbody>\n",
       "    <tr>\n",
       "      <th>count</th>\n",
       "      <td>300.000000</td>\n",
       "      <td>300.000000</td>\n",
       "      <td>300.000000</td>\n",
       "    </tr>\n",
       "    <tr>\n",
       "      <th>mean</th>\n",
       "      <td>0.306667</td>\n",
       "      <td>590.866667</td>\n",
       "      <td>3.386233</td>\n",
       "    </tr>\n",
       "    <tr>\n",
       "      <th>std</th>\n",
       "      <td>0.461880</td>\n",
       "      <td>117.717630</td>\n",
       "      <td>0.374880</td>\n",
       "    </tr>\n",
       "    <tr>\n",
       "      <th>min</th>\n",
       "      <td>0.000000</td>\n",
       "      <td>300.000000</td>\n",
       "      <td>2.260000</td>\n",
       "    </tr>\n",
       "    <tr>\n",
       "      <th>25%</th>\n",
       "      <td>0.000000</td>\n",
       "      <td>515.000000</td>\n",
       "      <td>3.130000</td>\n",
       "    </tr>\n",
       "    <tr>\n",
       "      <th>50%</th>\n",
       "      <td>0.000000</td>\n",
       "      <td>600.000000</td>\n",
       "      <td>3.390000</td>\n",
       "    </tr>\n",
       "    <tr>\n",
       "      <th>75%</th>\n",
       "      <td>1.000000</td>\n",
       "      <td>680.000000</td>\n",
       "      <td>3.642500</td>\n",
       "    </tr>\n",
       "    <tr>\n",
       "      <th>max</th>\n",
       "      <td>1.000000</td>\n",
       "      <td>800.000000</td>\n",
       "      <td>4.000000</td>\n",
       "    </tr>\n",
       "  </tbody>\n",
       "</table>\n",
       "</div>"
      ],
      "text/plain": [
       "            admit         gre         gpa\n",
       "count  300.000000  300.000000  300.000000\n",
       "mean     0.306667  590.866667    3.386233\n",
       "std      0.461880  117.717630    0.374880\n",
       "min      0.000000  300.000000    2.260000\n",
       "25%      0.000000  515.000000    3.130000\n",
       "50%      0.000000  600.000000    3.390000\n",
       "75%      1.000000  680.000000    3.642500\n",
       "max      1.000000  800.000000    4.000000"
      ]
     },
     "execution_count": 5,
     "metadata": {},
     "output_type": "execute_result"
    }
   ],
   "source": [
    "dfTrain.describe()"
   ]
  },
  {
   "cell_type": "code",
   "execution_count": 6,
   "metadata": {},
   "outputs": [
    {
     "data": {
      "text/plain": [
       "admit      0.46188\n",
       "gre      117.71763\n",
       "gpa        0.37488\n",
       "dtype: float64"
      ]
     },
     "execution_count": 6,
     "metadata": {},
     "output_type": "execute_result"
    }
   ],
   "source": [
    "# take a look at the standard deviation of each column\n",
    "dfTrain.std()"
   ]
  },
  {
   "cell_type": "code",
   "execution_count": 7,
   "metadata": {},
   "outputs": [
    {
     "name": "stdout",
     "output_type": "stream",
     "text": [
      "prestige  best  good  ok  veryGood\n",
      "dmit                              \n",
      "0           20    73  47        68\n",
      "1           25    19   9        39\n"
     ]
    }
   ],
   "source": [
    "# frequency table cutting presitge and whether or not someone was admitted\n",
    "print (pd.crosstab(dfTrain['admit'], dfTrain['prestige'], rownames=['dmit']))"
   ]
  },
  {
   "cell_type": "code",
   "execution_count": 8,
   "metadata": {},
   "outputs": [
    {
     "data": {
      "text/html": [
       "<div>\n",
       "<style scoped>\n",
       "    .dataframe tbody tr th:only-of-type {\n",
       "        vertical-align: middle;\n",
       "    }\n",
       "\n",
       "    .dataframe tbody tr th {\n",
       "        vertical-align: top;\n",
       "    }\n",
       "\n",
       "    .dataframe thead th {\n",
       "        text-align: right;\n",
       "    }\n",
       "</style>\n",
       "<table border=\"1\" class=\"dataframe\">\n",
       "  <thead>\n",
       "    <tr style=\"text-align: right;\">\n",
       "      <th></th>\n",
       "      <th>gre</th>\n",
       "      <th>gpa</th>\n",
       "    </tr>\n",
       "    <tr>\n",
       "      <th>admit</th>\n",
       "      <th></th>\n",
       "      <th></th>\n",
       "    </tr>\n",
       "  </thead>\n",
       "  <tbody>\n",
       "    <tr>\n",
       "      <th>0</th>\n",
       "      <td>573.461538</td>\n",
       "      <td>3.336587</td>\n",
       "    </tr>\n",
       "    <tr>\n",
       "      <th>1</th>\n",
       "      <td>630.217391</td>\n",
       "      <td>3.498478</td>\n",
       "    </tr>\n",
       "  </tbody>\n",
       "</table>\n",
       "</div>"
      ],
      "text/plain": [
       "              gre       gpa\n",
       "admit                      \n",
       "0      573.461538  3.336587\n",
       "1      630.217391  3.498478"
      ]
     },
     "execution_count": 8,
     "metadata": {},
     "output_type": "execute_result"
    }
   ],
   "source": [
    "dfTrain.groupby('admit').mean()"
   ]
  },
  {
   "cell_type": "code",
   "execution_count": 9,
   "metadata": {},
   "outputs": [
    {
     "data": {
      "image/png": "[encoded data removed]",
      "text/plain": [
       "<Figure size 432x288 with 1 Axes>"
      ]
     },
     "metadata": {
      "needs_background": "light"
     },
     "output_type": "display_data"
    }
   ],
   "source": [
    "# plot one column\n",
    "dfTrain['gpa'].hist()\n",
    "pl.title('Histogram of GPA')\n",
    "pl.xlabel('GPA')\n",
    "pl.ylabel('Frequency')\n",
    "pl.show()"
   ]
  },
  {
   "cell_type": "code",
   "execution_count": 10,
   "metadata": {},
   "outputs": [
    {
     "data": {
      "image/png": "[encoded data removed]",
      "text/plain": [
       "<Figure size 432x288 with 1 Axes>"
      ]
     },
     "metadata": {
      "needs_background": "light"
     },
     "output_type": "display_data"
    }
   ],
   "source": [
    "# barplot of gre score grouped by admission status (True or False)\n",
    "pd.crosstab(dfTrain.gre, dfTrain.admit.astype(bool)).plot(kind='bar')\n",
    "pl.title('GRE score by Admission Status')\n",
    "pl.xlabel('GRE score')\n",
    "pl.ylabel('Frequency')\n",
    "pl.show()"
   ]
  },
  {
   "cell_type": "code",
   "execution_count": 12,
   "metadata": {},
   "outputs": [
    {
     "name": "stdout",
     "output_type": "stream",
     "text": [
      "   prestige_best  prestige_good  prestige_ok  prestige_veryGood\n",
      "0              0              1            0                  0\n",
      "1              0              1            0                  0\n",
      "2              1              0            0                  0\n",
      "3              0              0            1                  0\n",
      "4              0              0            1                  0\n"
     ]
    }
   ],
   "source": [
    "# dummify prestige\n",
    "dummy_ranks = pd.get_dummies(dfTrain['prestige'], prefix='prestige')\n",
    "print (dummy_ranks.head())"
   ]
  },
  {
   "cell_type": "code",
   "execution_count": 13,
   "metadata": {},
   "outputs": [
    {
     "name": "stdout",
     "output_type": "stream",
     "text": [
      "   admit  gre   gpa  prestige_good  prestige_ok  prestige_veryGood\n",
      "0      0  380  3.61              1            0                  0\n",
      "1      1  660  3.67              1            0                  0\n",
      "2      1  800  4.00              0            0                  0\n",
      "3      1  640  3.19              0            1                  0\n",
      "4      0  520  2.93              0            1                  0\n"
     ]
    },
    {
     "name": "stderr",
     "output_type": "stream",
     "text": [
      "D:\\anaconda\\lib\\site-packages\\ipykernel_launcher.py:3: DeprecationWarning: \n",
      ".ix is deprecated. Please use\n",
      ".loc for label based indexing or\n",
      ".iloc for positional indexing\n",
      "\n",
      "See the documentation here:\n",
      "http://pandas.pydata.org/pandas-docs/stable/indexing.html#ix-indexer-is-deprecated\n",
      "  This is separate from the ipykernel package so we can avoid doing imports until\n"
     ]
    }
   ],
   "source": [
    "# create a clean data frame for the regression\n",
    "cols_to_keep = ['admit', 'gre', 'gpa']\n",
    "data = dfTrain[cols_to_keep].join(dummy_ranks.ix[:, 'prestige_good':])\n",
    "print (data.head())"
   ]
  },
  {
   "cell_type": "code",
   "execution_count": 14,
   "metadata": {},
   "outputs": [
    {
     "name": "stdout",
     "output_type": "stream",
     "text": [
      "   admit  gre   gpa  prestige_good  prestige_ok  prestige_veryGood  intercept\n",
      "0      0  380  3.61              1            0                  0        1.0\n",
      "1      1  660  3.67              1            0                  0        1.0\n",
      "2      1  800  4.00              0            0                  0        1.0\n",
      "3      1  640  3.19              0            1                  0        1.0\n",
      "4      0  520  2.93              0            1                  0        1.0\n"
     ]
    }
   ],
   "source": [
    "# manually add the intercept\n",
    "data['intercept'] = 1.0\n",
    "\n",
    "print (data.head())"
   ]
  },
  {
   "cell_type": "code",
   "execution_count": 15,
   "metadata": {},
   "outputs": [
    {
     "name": "stdout",
     "output_type": "stream",
     "text": [
      "Index(['gre', 'gpa', 'prestige_good', 'prestige_ok', 'prestige_veryGood',\n",
      "       'intercept'],\n",
      "      dtype='object')\n"
     ]
    }
   ],
   "source": [
    "train_cols = data.columns[1:]\n",
    "print (data.columns[1:])"
   ]
  },
  {
   "cell_type": "code",
   "execution_count": 16,
   "metadata": {},
   "outputs": [],
   "source": [
    "#Logistic Regression\n",
    "logit = sm.Logit(data['admit'], data[train_cols])"
   ]
  },
  {
   "cell_type": "code",
   "execution_count": 17,
   "metadata": {},
   "outputs": [
    {
     "name": "stdout",
     "output_type": "stream",
     "text": [
      "Optimization terminated successfully.\n",
      "         Current function value: 0.546708\n",
      "         Iterations 6\n",
      "                           Logit Regression Results                           \n",
      "==============================================================================\n",
      "Dep. Variable:                  admit   No. Observations:                  300\n",
      "Model:                          Logit   Df Residuals:                      294\n",
      "Method:                           MLE   Df Model:                            5\n",
      "Date:                Tue, 05 Mar 2019   Pseudo R-squ.:                  0.1131\n",
      "Time:                        17:18:54   Log-Likelihood:                -164.01\n",
      "converged:                       True   LL-Null:                       -184.92\n",
      "                                        LLR p-value:                 6.406e-08\n",
      "=====================================================================================\n",
      "                        coef    std err          z      P>|z|      [0.025      0.975]\n",
      "-------------------------------------------------------------------------------------\n",
      "gre                   0.0030      0.001      2.346      0.019       0.000       0.006\n",
      "gpa                   0.9316      0.406      2.294      0.022       0.136       1.728\n",
      "prestige_good        -1.5434      0.413     -3.740      0.000      -2.352      -0.735\n",
      "prestige_ok          -1.6848      0.487     -3.457      0.001      -2.640      -0.730\n",
      "prestige_veryGood    -0.6248      0.378     -1.654      0.098      -1.365       0.116\n",
      "intercept            -4.8787      1.416     -3.445      0.001      -7.655      -2.103\n",
      "=====================================================================================\n"
     ]
    }
   ],
   "source": [
    "# fit the model\n",
    "result = logit.fit()\n",
    "print (result.summary())"
   ]
  },
  {
   "cell_type": "code",
   "execution_count": 18,
   "metadata": {
    "scrolled": true
   },
   "outputs": [
    {
     "name": "stdout",
     "output_type": "stream",
     "text": [
      "    prestige_best  prestige_good  prestige_ok  prestige_veryGood\n",
      "0               0              0            0                  1\n",
      "1               0              1            0                  0\n",
      "2               0              0            0                  1\n",
      "3               0              0            0                  1\n",
      "4               0              1            0                  0\n",
      "5               0              0            1                  0\n",
      "6               1              0            0                  0\n",
      "7               0              0            0                  1\n",
      "8               0              0            0                  1\n",
      "9               0              1            0                  0\n",
      "10              0              1            0                  0\n",
      "11              0              0            0                  1\n",
      "12              0              1            0                  0\n",
      "13              0              0            1                  0\n",
      "14              0              0            1                  0\n",
      "15              0              0            0                  1\n",
      "16              0              0            0                  1\n",
      "17              0              0            1                  0\n",
      "18              0              0            1                  0\n",
      "19              1              0            0                  0\n",
      "20              0              1            0                  0\n",
      "21              0              0            0                  1\n",
      "22              0              0            1                  0\n",
      "23              0              0            0                  1\n",
      "24              0              1            0                  0\n",
      "25              1              0            0                  0\n",
      "26              0              0            0                  1\n",
      "27              0              0            0                  1\n",
      "28              0              0            0                  1\n",
      "29              0              0            1                  0\n",
      "..            ...            ...          ...                ...\n",
      "70              0              0            0                  1\n",
      "71              0              1            0                  0\n",
      "72              1              0            0                  0\n",
      "73              1              0            0                  0\n",
      "74              0              0            0                  1\n",
      "75              0              0            1                  0\n",
      "76              0              0            0                  1\n",
      "77              0              0            0                  1\n",
      "78              0              1            0                  0\n",
      "79              0              0            0                  1\n",
      "80              0              0            0                  1\n",
      "81              0              0            0                  1\n",
      "82              0              0            0                  1\n",
      "83              1              0            0                  0\n",
      "84              0              0            0                  1\n",
      "85              1              0            0                  0\n",
      "86              0              0            0                  1\n",
      "87              0              0            0                  1\n",
      "88              0              0            0                  1\n",
      "89              0              0            0                  1\n",
      "90              0              0            0                  1\n",
      "91              0              0            0                  1\n",
      "92              0              1            0                  0\n",
      "93              0              0            0                  1\n",
      "94              0              1            0                  0\n",
      "95              0              0            0                  1\n",
      "96              0              1            0                  0\n",
      "97              0              0            0                  1\n",
      "98              0              0            0                  1\n",
      "99              0              1            0                  0\n",
      "\n",
      "[100 rows x 4 columns]\n"
     ]
    }
   ],
   "source": [
    "# recreate the dummy variables\n",
    "dummy_ranks_test = pd.get_dummies(dfTest['prestige'], prefix='prestige')\n",
    "print (dummy_ranks_test)"
   ]
  },
  {
   "cell_type": "code",
   "execution_count": 19,
   "metadata": {},
   "outputs": [],
   "source": [
    "#create intercept column\n",
    "dfTest['intercept'] = 1.0"
   ]
  },
  {
   "cell_type": "code",
   "execution_count": 20,
   "metadata": {},
   "outputs": [
    {
     "name": "stderr",
     "output_type": "stream",
     "text": [
      "D:\\anaconda\\lib\\site-packages\\ipykernel_launcher.py:3: DeprecationWarning: \n",
      ".ix is deprecated. Please use\n",
      ".loc for label based indexing or\n",
      ".iloc for positional indexing\n",
      "\n",
      "See the documentation here:\n",
      "http://pandas.pydata.org/pandas-docs/stable/indexing.html#ix-indexer-is-deprecated\n",
      "  This is separate from the ipykernel package so we can avoid doing imports until\n"
     ]
    }
   ],
   "source": [
    "# keep only what we need for making predictions\n",
    "cols_to_keep = ['gre', 'gpa', 'prestige', 'intercept']\n",
    "dfTest = dfTest[cols_to_keep].join(dummy_ranks_test.ix[:, 'prestige_good':])"
   ]
  },
  {
   "cell_type": "code",
   "execution_count": 21,
   "metadata": {},
   "outputs": [
    {
     "data": {
      "text/html": [
       "<div>\n",
       "<style scoped>\n",
       "    .dataframe tbody tr th:only-of-type {\n",
       "        vertical-align: middle;\n",
       "    }\n",
       "\n",
       "    .dataframe tbody tr th {\n",
       "        vertical-align: top;\n",
       "    }\n",
       "\n",
       "    .dataframe thead th {\n",
       "        text-align: right;\n",
       "    }\n",
       "</style>\n",
       "<table border=\"1\" class=\"dataframe\">\n",
       "  <thead>\n",
       "    <tr style=\"text-align: right;\">\n",
       "      <th></th>\n",
       "      <th>gre</th>\n",
       "      <th>gpa</th>\n",
       "      <th>prestige</th>\n",
       "      <th>intercept</th>\n",
       "      <th>prestige_good</th>\n",
       "      <th>prestige_ok</th>\n",
       "      <th>prestige_veryGood</th>\n",
       "    </tr>\n",
       "  </thead>\n",
       "  <tbody>\n",
       "    <tr>\n",
       "      <th>0</th>\n",
       "      <td>640</td>\n",
       "      <td>3.30</td>\n",
       "      <td>veryGood</td>\n",
       "      <td>1.0</td>\n",
       "      <td>0</td>\n",
       "      <td>0</td>\n",
       "      <td>1</td>\n",
       "    </tr>\n",
       "    <tr>\n",
       "      <th>1</th>\n",
       "      <td>660</td>\n",
       "      <td>3.60</td>\n",
       "      <td>good</td>\n",
       "      <td>1.0</td>\n",
       "      <td>1</td>\n",
       "      <td>0</td>\n",
       "      <td>0</td>\n",
       "    </tr>\n",
       "    <tr>\n",
       "      <th>2</th>\n",
       "      <td>400</td>\n",
       "      <td>3.15</td>\n",
       "      <td>veryGood</td>\n",
       "      <td>1.0</td>\n",
       "      <td>0</td>\n",
       "      <td>0</td>\n",
       "      <td>1</td>\n",
       "    </tr>\n",
       "    <tr>\n",
       "      <th>3</th>\n",
       "      <td>680</td>\n",
       "      <td>3.98</td>\n",
       "      <td>veryGood</td>\n",
       "      <td>1.0</td>\n",
       "      <td>0</td>\n",
       "      <td>0</td>\n",
       "      <td>1</td>\n",
       "    </tr>\n",
       "    <tr>\n",
       "      <th>4</th>\n",
       "      <td>220</td>\n",
       "      <td>2.83</td>\n",
       "      <td>good</td>\n",
       "      <td>1.0</td>\n",
       "      <td>1</td>\n",
       "      <td>0</td>\n",
       "      <td>0</td>\n",
       "    </tr>\n",
       "  </tbody>\n",
       "</table>\n",
       "</div>"
      ],
      "text/plain": [
       "   gre   gpa  prestige  intercept  prestige_good  prestige_ok  \\\n",
       "0  640  3.30  veryGood        1.0              0            0   \n",
       "1  660  3.60      good        1.0              1            0   \n",
       "2  400  3.15  veryGood        1.0              0            0   \n",
       "3  680  3.98  veryGood        1.0              0            0   \n",
       "4  220  2.83      good        1.0              1            0   \n",
       "\n",
       "   prestige_veryGood  \n",
       "0                  1  \n",
       "1                  0  \n",
       "2                  1  \n",
       "3                  1  \n",
       "4                  0  "
      ]
     },
     "execution_count": 21,
     "metadata": {},
     "output_type": "execute_result"
    }
   ],
   "source": [
    "dfTest.head()"
   ]
  },
  {
   "cell_type": "code",
   "execution_count": 22,
   "metadata": {},
   "outputs": [],
   "source": [
    "# make predictions on the enumerated dataset\n",
    "dfTest['admit_pred'] = result.predict(dfTest[train_cols])\n"
   ]
  },
  {
   "cell_type": "code",
   "execution_count": 23,
   "metadata": {},
   "outputs": [
    {
     "name": "stdout",
     "output_type": "stream",
     "text": [
      "   gre   gpa  prestige  intercept  prestige_good  prestige_ok  \\\n",
      "0  640  3.30  veryGood        1.0              0            0   \n",
      "1  660  3.60      good        1.0              1            0   \n",
      "2  400  3.15  veryGood        1.0              0            0   \n",
      "3  680  3.98  veryGood        1.0              0            0   \n",
      "4  220  2.83      good        1.0              1            0   \n",
      "\n",
      "   prestige_veryGood  admit_pred  \n",
      "0                  1    0.378513  \n",
      "1                  0    0.254527  \n",
      "2                  1    0.204146  \n",
      "3                  1    0.564259  \n",
      "4                  0    0.042246  \n"
     ]
    }
   ],
   "source": [
    "\n",
    "#see probabilities\n",
    "print (dfTest.head())"
   ]
  },
  {
   "cell_type": "code",
   "execution_count": 24,
   "metadata": {},
   "outputs": [
    {
     "name": "stdout",
     "output_type": "stream",
     "text": [
      "   gre   gpa  prestige  intercept  prestige_good  prestige_ok  \\\n",
      "0  640  3.30  veryGood        1.0              0            0   \n",
      "1  660  3.60      good        1.0              1            0   \n",
      "2  400  3.15  veryGood        1.0              0            0   \n",
      "3  680  3.98  veryGood        1.0              0            0   \n",
      "4  220  2.83      good        1.0              1            0   \n",
      "\n",
      "   prestige_veryGood  admit_pred admit_yn  \n",
      "0                  1    0.378513       no  \n",
      "1                  0    0.254527       no  \n",
      "2                  1    0.204146       no  \n",
      "3                  1    0.564259      yes  \n",
      "4                  0    0.042246       no  \n"
     ]
    }
   ],
   "source": [
    "#convert probabilities to 'yes' 'no'\n",
    "dfTest['admit_yn']= np.where(dfTest['admit_pred'] > 0.5,'yes','no')\n",
    "print (dfTest.head())"
   ]
  },
  {
   "cell_type": "code",
   "execution_count": 25,
   "metadata": {},
   "outputs": [
    {
     "data": {
      "text/html": [
       "<div>\n",
       "<style scoped>\n",
       "    .dataframe tbody tr th:only-of-type {\n",
       "        vertical-align: middle;\n",
       "    }\n",
       "\n",
       "    .dataframe tbody tr th {\n",
       "        vertical-align: top;\n",
       "    }\n",
       "\n",
       "    .dataframe thead th {\n",
       "        text-align: right;\n",
       "    }\n",
       "</style>\n",
       "<table border=\"1\" class=\"dataframe\">\n",
       "  <thead>\n",
       "    <tr style=\"text-align: right;\">\n",
       "      <th></th>\n",
       "      <th>gre</th>\n",
       "      <th>gpa</th>\n",
       "    </tr>\n",
       "    <tr>\n",
       "      <th>admit_yn</th>\n",
       "      <th></th>\n",
       "      <th></th>\n",
       "    </tr>\n",
       "  </thead>\n",
       "  <tbody>\n",
       "    <tr>\n",
       "      <th>no</th>\n",
       "      <td>556.585366</td>\n",
       "      <td>3.324268</td>\n",
       "    </tr>\n",
       "    <tr>\n",
       "      <th>yes</th>\n",
       "      <td>676.666667</td>\n",
       "      <td>3.750000</td>\n",
       "    </tr>\n",
       "  </tbody>\n",
       "</table>\n",
       "</div>"
      ],
      "text/plain": [
       "                 gre       gpa\n",
       "admit_yn                      \n",
       "no        556.585366  3.324268\n",
       "yes       676.666667  3.750000"
      ]
     },
     "execution_count": 25,
     "metadata": {},
     "output_type": "execute_result"
    }
   ],
   "source": [
    "cols= ['gre', 'gpa', 'admit_yn']\n",
    "dfTest[cols].groupby('admit_yn').mean()"
   ]
  },
  {
   "cell_type": "code",
   "execution_count": 26,
   "metadata": {},
   "outputs": [
    {
     "data": {
      "text/html": [
       "<div>\n",
       "<style scoped>\n",
       "    .dataframe tbody tr th:only-of-type {\n",
       "        vertical-align: middle;\n",
       "    }\n",
       "\n",
       "    .dataframe tbody tr th {\n",
       "        vertical-align: top;\n",
       "    }\n",
       "\n",
       "    .dataframe thead th {\n",
       "        text-align: right;\n",
       "    }\n",
       "</style>\n",
       "<table border=\"1\" class=\"dataframe\">\n",
       "  <thead>\n",
       "    <tr style=\"text-align: right;\">\n",
       "      <th></th>\n",
       "      <th>gre</th>\n",
       "      <th>gpa</th>\n",
       "    </tr>\n",
       "    <tr>\n",
       "      <th>admit_yn</th>\n",
       "      <th></th>\n",
       "      <th></th>\n",
       "    </tr>\n",
       "  </thead>\n",
       "  <tbody>\n",
       "    <tr>\n",
       "      <th>no</th>\n",
       "      <td>556.585366</td>\n",
       "      <td>3.324268</td>\n",
       "    </tr>\n",
       "    <tr>\n",
       "      <th>yes</th>\n",
       "      <td>676.666667</td>\n",
       "      <td>3.750000</td>\n",
       "    </tr>\n",
       "  </tbody>\n",
       "</table>\n",
       "</div>"
      ],
      "text/plain": [
       "                 gre       gpa\n",
       "admit_yn                      \n",
       "no        556.585366  3.324268\n",
       "yes       676.666667  3.750000"
      ]
     },
     "execution_count": 26,
     "metadata": {},
     "output_type": "execute_result"
    }
   ],
   "source": [
    "cols= ['gre', 'gpa', 'admit_yn']\n",
    "dfTest[cols].groupby('admit_yn').mean()"
   ]
  },
  {
   "cell_type": "code",
   "execution_count": 27,
   "metadata": {},
   "outputs": [],
   "source": [
    "dfTest.to_csv('Gre_output.csv', sep=',')"
   ]
  },
  {
   "cell_type": "code",
   "execution_count": null,
   "metadata": {},
   "outputs": [],
   "source": []
  }
 ],
 "metadata": {
  "kernelspec": {
   "display_name": "Python 3",
   "language": "python",
   "name": "python3"
  },
  "language_info": {
   "codemirror_mode": {
    "name": "ipython",
    "version": 3
   },
   "file_extension": ".py",
   "mimetype": "text/x-python",
   "name": "python",
   "nbconvert_exporter": "python",
   "pygments_lexer": "ipython3",
   "version": "3.7.0"
  }
 },
 "nbformat": 4,
 "nbformat_minor": 2
}
